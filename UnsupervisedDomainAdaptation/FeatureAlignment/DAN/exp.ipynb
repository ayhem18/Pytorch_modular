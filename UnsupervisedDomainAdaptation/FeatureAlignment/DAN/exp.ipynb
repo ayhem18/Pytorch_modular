{
 "cells": [
  {
   "cell_type": "code",
   "execution_count": 2,
   "metadata": {},
   "outputs": [],
   "source": [
    "import os\n",
    "from pathlib import Path\n",
    "home = os.getcwd()\n",
    "current = home\n",
    "while 'data' not in os.listdir(current):\n",
    "    current = Path(current).parent\n",
    "DATA_FOLDER = os.path.join(current, 'data')"
   ]
  },
  {
   "cell_type": "code",
   "execution_count": 3,
   "metadata": {},
   "outputs": [],
   "source": [
    "amazon_dir = os.path.join(DATA_FOLDER, 'amazon', 'amazon')\n",
    "amazon_train = os.path.join(DATA_FOLDER, 'amazon', 'amazon_splitted', 'train')\n",
    "amazon_val = os.path.join(DATA_FOLDER, 'amazon', 'amazon_splitted', 'val')"
   ]
  }
 ],
 "metadata": {
  "kernelspec": {
   "display_name": "env",
   "language": "python",
   "name": "python3"
  },
  "language_info": {
   "codemirror_mode": {
    "name": "ipython",
    "version": 3
   },
   "file_extension": ".py",
   "mimetype": "text/x-python",
   "name": "python",
   "nbconvert_exporter": "python",
   "pygments_lexer": "ipython3",
   "version": "3.10.9"
  }
 },
 "nbformat": 4,
 "nbformat_minor": 2
}
